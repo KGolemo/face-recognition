{
 "cells": [
  {
   "cell_type": "code",
   "execution_count": 1,
   "metadata": {},
   "outputs": [],
   "source": [
    "import os\n",
    "import sys\n",
    "sys.path.append('../')\n",
    "from facerec.dataset_generator import DataGenerator\n",
    "from facerec.siamese_models import get_siamese_model, train_model"
   ]
  },
  {
   "cell_type": "code",
   "execution_count": 2,
   "metadata": {},
   "outputs": [
    {
     "name": "stdout",
     "output_type": "stream",
     "text": [
      "Test data: 3040 samples in 95 batches\n"
     ]
    }
   ],
   "source": [
    "IMGS_DIR = r'../data/faces/'\n",
    "PAIRS_DIR = r'../data/pairs/'\n",
    "\n",
    "SEED = 80808\n",
    "BATCH_SIZE = 32\n",
    "INPUT_SHAPE = (150, 150, 3)\n",
    "\n",
    "TEST_POSITIVE_PAIRS_DIR = os.path.join(PAIRS_DIR, 'test_positive_pairs.csv')\n",
    "TEST_NEGATIVE_PAIRS_DIR = os.path.join(PAIRS_DIR, 'test_negative_pairs.csv')\n",
    "\n",
    "test_data = DataGenerator(\n",
    "    positive_pairs_path=TEST_POSITIVE_PAIRS_DIR,\n",
    "    negative_pairs_path=TEST_NEGATIVE_PAIRS_DIR,\n",
    "    images_path=IMGS_DIR,\n",
    "    input_shape=INPUT_SHAPE,\n",
    "    batch_size=BATCH_SIZE,\n",
    "    seed=SEED,\n",
    "    shuffle=True,\n",
    "    debug=True\n",
    ")\n",
    "\n",
    "print(f'Test data: {BATCH_SIZE * len(test_data)} samples in {len(test_data)} batches')"
   ]
  },
  {
   "cell_type": "code",
   "execution_count": 3,
   "metadata": {},
   "outputs": [],
   "source": [
    "from facerec.utils import contrastive_loss, accuracy, specificity, recall, precision\n",
    "from tensorflow.keras.models import load_model\n",
    "from tensorflow.keras.optimizers import Adam\n",
    "\n",
    "model_path = '../checkpoints/models/ResNet50-150-64/2023-09-20_02-45-41.hdf5'"
   ]
  },
  {
   "cell_type": "code",
   "execution_count": 4,
   "metadata": {},
   "outputs": [
    {
     "name": "stdout",
     "output_type": "stream",
     "text": [
      "Model: \"Pretrained_ResNet50\"\n",
      "_________________________________________________________________\n",
      " Layer (type)                Output Shape              Param #   \n",
      "=================================================================\n",
      " resnet50 (Functional)       (None, 5, 5, 2048)        23587712  \n",
      "                                                                 \n",
      " flatten (Flatten)           (None, 51200)             0         \n",
      "                                                                 \n",
      " dense (Dense)               (None, 64)                3276864   \n",
      "                                                                 \n",
      "=================================================================\n",
      "Total params: 26,864,576\n",
      "Trainable params: 3,276,864\n",
      "Non-trainable params: 23,587,712\n",
      "_________________________________________________________________\n"
     ]
    }
   ],
   "source": [
    "siamese_model = get_siamese_model('ResNet50', input_shape=INPUT_SHAPE)\n",
    "siamese_model.load_weights(model_path)\n",
    "\n",
    "siamese_model.compile(loss=contrastive_loss, \n",
    "                        optimizer=Adam(0.0001, beta_1=0.99), \n",
    "                        metrics=[accuracy, precision, recall, specificity])"
   ]
  },
  {
   "cell_type": "code",
   "execution_count": 5,
   "metadata": {},
   "outputs": [
    {
     "name": "stdout",
     "output_type": "stream",
     "text": [
      "95/95 [==============================] - 39s 334ms/step - loss: 0.1391 - accuracy: 0.8464 - precision: 0.8717 - recall: 0.8178 - specificity: 0.8751\n"
     ]
    },
    {
     "data": {
      "text/plain": [
       "[0.13907872140407562,\n",
       " 0.8463816046714783,\n",
       " 0.8717013597488403,\n",
       " 0.8178225755691528,\n",
       " 0.8750870823860168]"
      ]
     },
     "execution_count": 5,
     "metadata": {},
     "output_type": "execute_result"
    }
   ],
   "source": [
    "siamese_model.evaluate(test_data)"
   ]
  },
  {
   "cell_type": "code",
   "execution_count": 6,
   "metadata": {},
   "outputs": [
    {
     "name": "stdout",
     "output_type": "stream",
     "text": [
      "95/95 [==============================] - 33s 323ms/step\n"
     ]
    }
   ],
   "source": [
    "import numpy as np\n",
    "\n",
    "y_test = np.array([test_data.labels[i] for i in test_data.index])\n",
    "y_pred = siamese_model.predict(test_data)"
   ]
  },
  {
   "cell_type": "code",
   "execution_count": 7,
   "metadata": {},
   "outputs": [
    {
     "name": "stdout",
     "output_type": "stream",
     "text": [
      "Best threshold = 0.504201\n"
     ]
    },
    {
     "data": {
      "image/png": "[encoded data removed]",
      "text/plain": [
       "<Figure size 500x500 with 1 Axes>"
      ]
     },
     "metadata": {},
     "output_type": "display_data"
    }
   ],
   "source": [
    "import matplotlib.pyplot as plt\n",
    "from sklearn.metrics import roc_curve, auc\n",
    "\n",
    "fpr, tpr, thresholds = roc_curve(y_test, y_pred, pos_label=0)\n",
    "roc_auc = auc(fpr, tpr)\n",
    "\n",
    "J = tpr - fpr\n",
    "ix = np.argmax(J)\n",
    "best_thresh = thresholds[ix]\n",
    "print('Best threshold = %f' % (best_thresh))\n",
    "\n",
    "plt.figure(figsize=(5, 5))\n",
    "plt.plot([0, 1], [0, 1], 'k--')\n",
    "plt.plot(fpr, tpr, label='ROC AUC = {:.3f}'.format(roc_auc), color='royalblue')\n",
    "plt.xlabel('Wskaźnik FPR')\n",
    "plt.ylabel('Wskaźnik TPR')\n",
    "# plt.title('ROC curve')\n",
    "plt.legend(loc='lower right')\n",
    "plt.show()"
   ]
  },
  {
   "cell_type": "code",
   "execution_count": 8,
   "metadata": {},
   "outputs": [],
   "source": [
    "# import matplotlib.pyplot as plt\n",
    "# from sklearn.metrics import roc_curve, auc\n",
    "\n",
    "# # Create an array of threshold values\n",
    "# thresholds = np.linspace(0.4, 0.6, num=100)\n",
    "\n",
    "# # Initialize lists to store TPR and FPR values for each threshold\n",
    "# tpr_list = []\n",
    "# fpr_list = []\n",
    "# auc_list = []\n",
    "\n",
    "# # Calculate TPR and FPR for each threshold\n",
    "# for threshold in thresholds:\n",
    "#     y_pred_binary = (y_pred < threshold).astype(int)\n",
    "#     fpr, tpr, _ = roc_curve(y_test, y_pred_binary)\n",
    "#     roc_auc = auc(fpr, tpr)\n",
    "#     tpr_list.append(tpr)\n",
    "#     fpr_list.append(fpr)\n",
    "#     auc_list.append(roc_auc)\n",
    "\n",
    "# # Plot ROC curve for each threshold\n",
    "# plt.figure(figsize=(8, 5))\n",
    "# for i in range(len(thresholds)):\n",
    "#     plt.scatter(fpr_list[i], tpr_list[i], label=f'Threshold = {thresholds[i]}', s=1)\n",
    "\n",
    "# plt.plot([0, 1], [0, 1], 'k--')\n",
    "# plt.xlabel('False Positive Rate (FPR)')\n",
    "# plt.ylabel('True Positive Rate (TPR)')\n",
    "# plt.title('ROC Curve for Different Thresholds')\n",
    "# # plt.legend(loc='lower right')\n",
    "# plt.show()"
   ]
  }
 ],
 "metadata": {
  "kernelspec": {
   "display_name": "face-env",
   "language": "python",
   "name": "python3"
  },
  "language_info": {
   "codemirror_mode": {
    "name": "ipython",
    "version": 3
   },
   "file_extension": ".py",
   "mimetype": "text/x-python",
   "name": "python",
   "nbconvert_exporter": "python",
   "pygments_lexer": "ipython3",
   "version": "3.10.12"
  },
  "orig_nbformat": 4
 },
 "nbformat": 4,
 "nbformat_minor": 2
}
